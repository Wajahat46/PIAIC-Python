{
 "cells": [
  {
   "cell_type": "markdown",
   "metadata": {},
   "source": [
    "# Lists, Lists Functions and List slicing"
   ]
  },
  {
   "cell_type": "code",
   "execution_count": 1,
   "metadata": {},
   "outputs": [
    {
     "name": "stdout",
     "output_type": "stream",
     "text": [
      "[1, 2, 3, 4, 5, 6, 7]\n"
     ]
    }
   ],
   "source": [
    "list1 = [1,2,3,4,5,6,7]\n",
    "print(list1)"
   ]
  },
  {
   "cell_type": "code",
   "execution_count": 2,
   "metadata": {},
   "outputs": [
    {
     "data": {
      "text/plain": [
       "list"
      ]
     },
     "execution_count": 2,
     "metadata": {},
     "output_type": "execute_result"
    }
   ],
   "source": [
    "type(list1)"
   ]
  },
  {
   "cell_type": "code",
   "execution_count": 5,
   "metadata": {},
   "outputs": [
    {
     "name": "stdout",
     "output_type": "stream",
     "text": [
      "apple\n",
      "apple\n",
      "------------------------------\n",
      "grapes\n",
      "grapes\n"
     ]
    }
   ],
   "source": [
    "# We can also get values using negative indexing.\n",
    "#        [   0,      1,       2,        3]\n",
    "#        [   -4,      -3,       -2,        -1]  \n",
    "\n",
    "list2  = [\"apple\",\"orange\", \"banaana\",\"grapes\"]\n",
    "print(list2[0])\n",
    "print(list2[-4])\n",
    "print(\"------------------------------\")\n",
    "print(list2[-1])\n",
    "print(list2[3])"
   ]
  },
  {
   "cell_type": "markdown",
   "metadata": {},
   "source": [
    "##  List append() method"
   ]
  },
  {
   "cell_type": "code",
   "execution_count": 10,
   "metadata": {},
   "outputs": [
    {
     "name": "stdout",
     "output_type": "stream",
     "text": [
      "['apple', 'orange', 'banaana', 'grapes']\n",
      "grapes\n",
      "['apple', 'orange', 'banaana', 'grapes', 'MANGO']\n",
      "MANGO\n",
      "pine-apple\n",
      "['apple', 'orange', 'banaana', 'grapes', 'MANGO', 'pine-apple']\n"
     ]
    }
   ],
   "source": [
    "# We can also add values to the list using append method.\n",
    "list2  = [\"apple\",\"orange\", \"banaana\",\"grapes\"]\n",
    "print(list2)\n",
    "print(list2[-1])\n",
    "# Append() method by default adds the values in the last position.\n",
    "list2.append(\"MANGO\")\n",
    "print(list2)\n",
    "print(list2[-1])\n",
    "list2.append(\"pine-apple\")\n",
    "print(list2[-1])\n",
    "print(list2)"
   ]
  },
  {
   "cell_type": "markdown",
   "metadata": {},
   "source": [
    "## List remove() method\n",
    "- remove() removes the first occurance of the value to remove."
   ]
  },
  {
   "cell_type": "code",
   "execution_count": 14,
   "metadata": {},
   "outputs": [
    {
     "name": "stdout",
     "output_type": "stream",
     "text": [
      "[1, 2, 3, 4, 5, 6, 7]\n",
      "[1, 2, 3, 5, 6, 7]\n"
     ]
    }
   ],
   "source": [
    "list1 = [1,2,3,4,5,6,7]\n",
    "print(list1)\n",
    "list1.remove(4)\n",
    "print(list1)"
   ]
  },
  {
   "cell_type": "markdown",
   "metadata": {},
   "source": [
    "## List del keyword\n",
    "- We can also use the del keyword to delete the item from the list."
   ]
  },
  {
   "cell_type": "code",
   "execution_count": 22,
   "metadata": {},
   "outputs": [
    {
     "name": "stdout",
     "output_type": "stream",
     "text": [
      "[0, 1, 2, 3, 4, 5, 6, 7]\n",
      "[0, 1, 2, 3, 5, 6, 7]\n"
     ]
    }
   ],
   "source": [
    "list1 = [0,1,2,3,4,5,6,7]\n",
    "print(list1)\n",
    "del list1[4]\n",
    "print(list1)"
   ]
  },
  {
   "cell_type": "markdown",
   "metadata": {},
   "source": [
    "## List index() function\n",
    "- It is used to find the index of the value in the list."
   ]
  },
  {
   "cell_type": "code",
   "execution_count": 28,
   "metadata": {},
   "outputs": [
    {
     "name": "stdout",
     "output_type": "stream",
     "text": [
      "['apple', 'orange', 'banaana', 'grapes']\n",
      "The index of the banaana is : 2\n"
     ]
    }
   ],
   "source": [
    "#        [   0,      1,       2,         3]\n",
    "list2  = [\"apple\",\"orange\", \"banaana\",\"grapes\"]\n",
    "print(list2)\n",
    "\n",
    "print(f\"The index of the banaana is : {list2.index('banaana')}\")\n",
    "\n",
    "# If the value is not found the program crashtes.\n",
    "# print(list2.index('mango'))\n"
   ]
  },
  {
   "cell_type": "markdown",
   "metadata": {},
   "source": [
    "We also have len function to find the length."
   ]
  },
  {
   "cell_type": "code",
   "execution_count": 29,
   "metadata": {},
   "outputs": [
    {
     "name": "stdout",
     "output_type": "stream",
     "text": [
      "4\n"
     ]
    }
   ],
   "source": [
    "list2  = [\"apple\",\"orange\", \"banaana\",\"grapes\"]\n",
    "print(len(list2))"
   ]
  },
  {
   "cell_type": "markdown",
   "metadata": {},
   "source": [
    "## List sort() function"
   ]
  },
  {
   "cell_type": "code",
   "execution_count": 35,
   "metadata": {},
   "outputs": [
    {
     "name": "stdout",
     "output_type": "stream",
     "text": [
      "Unsorted List: ['apple', 'orange', 'banaana', 'grapes']\n",
      "Sorted list : ['apple', 'banaana', 'grapes', 'orange']\n"
     ]
    }
   ],
   "source": [
    "list2  = [\"apple\",\"orange\", \"banaana\",\"grapes\"]\n",
    "print(f\"Unsorted List: {list2}\")\n",
    "list2.sort()\n",
    "print(f\"Sorted list : {list2}\")"
   ]
  },
  {
   "cell_type": "code",
   "execution_count": 80,
   "metadata": {},
   "outputs": [
    {
     "name": "stdout",
     "output_type": "stream",
     "text": [
      "Enter the names of people attending party name1,name2,name3... : Wahaj,Nabeel,Adeel,Kibria,Talha,Raheel,Waqas,Wajahat\n"
     ]
    }
   ],
   "source": [
    "# Example problem:\n",
    "names = input(\"Enter the names of people attending party name1,name2,name3... : \")\n"
   ]
  },
  {
   "cell_type": "code",
   "execution_count": 100,
   "metadata": {},
   "outputs": [
    {
     "name": "stdout",
     "output_type": "stream",
     "text": [
      "<class 'list'>\n",
      "['Wahaj', 'Nabeel', 'Adeel', 'Kibria', 'Talha', 'Raheel', 'Waqas', 'Wajahat']\n",
      "['Adeel', 'Kibria', 'Nabeel', 'Raheel', 'Talha', 'Wahaj', 'Wajahat', 'Waqas']\n"
     ]
    }
   ],
   "source": [
    "v = list(names.split(\",\"))\n",
    "print(type(v))\n",
    "print(v)\n",
    "v.sort()\n",
    "print(v)\n",
    "# names.sort()\n",
    "# print(names)"
   ]
  },
  {
   "cell_type": "code",
   "execution_count": 101,
   "metadata": {},
   "outputs": [
    {
     "name": "stdout",
     "output_type": "stream",
     "text": [
      "<class 'list'>\n",
      "['Adeel', 'Kibria', 'Nabeel', 'Raheel', 'Talha', 'Wahaj', 'Wajaha', 'Waqas']\n"
     ]
    }
   ],
   "source": [
    "values = [ \"Wahaj\",\"Nabeel\",\"Adeel\",\"Kibria\",\"Talha\",\"Raheel\",\"Waqas\",\"Wajaha\"]\n",
    "print(type(values))\n",
    "values.sort()\n",
    "print(values)"
   ]
  },
  {
   "cell_type": "code",
   "execution_count": 16,
   "metadata": {},
   "outputs": [
    {
     "name": "stdout",
     "output_type": "stream",
     "text": [
      "['Wahaj', 'Nabeel', 'Adeel', 'Kibria', 'Talha', 'Raheel', 'Waqas', 'Grapes', 'Wajahat']\n"
     ]
    }
   ],
   "source": [
    "values = [ \"Wahaj\",\"Nabeel\",\"Adeel\",\"Kibria\",\"Talha\",\"Raheel\",\"Waqas\",\"Wajahat\"]\n",
    "values.insert(-1,\"Grapes\")\n",
    "print(values)"
   ]
  },
  {
   "cell_type": "markdown",
   "metadata": {},
   "source": [
    "# Join() method\n",
    "We should use **join()** method when concatenating two or more than two strings because it uses **less processing**.  "
   ]
  },
  {
   "cell_type": "code",
   "execution_count": 27,
   "metadata": {},
   "outputs": [
    {
     "name": "stdout",
     "output_type": "stream",
     "text": [
      "Hello there !..........Wajahat\n",
      "Hello there !..........Talha\n",
      "Hello there !..........Ali\n",
      "Hello there !..........Kibria\n",
      "Hello there !..........Waqas\n"
     ]
    }
   ],
   "source": [
    "names = [\"Wajahat\",\"Talha\",\"Ali\",\"Kibria\",\"Waqas\"]\n",
    "for name in names:\n",
    "    # print(\"Hello there !, \" + name)\n",
    "    print(\"..........\".join([\"Hello there !\",name])) # We can also use the join method for joining two strings.\n"
   ]
  },
  {
   "cell_type": "code",
   "execution_count": 30,
   "metadata": {},
   "outputs": [
    {
     "name": "stdout",
     "output_type": "stream",
     "text": [
      "Wajahat,Talha,Ali,Kibria,Waqas\n",
      "<class 'str'>\n"
     ]
    }
   ],
   "source": [
    "names = [\"Wajahat\",\"Talha\",\"Ali\",\"Kibria\",\"Waqas\"]\n",
    "print(\",\".join(names))\n",
    "new_string = \",\".join(names)\n",
    "print(type(new_string))"
   ]
  },
  {
   "cell_type": "code",
   "execution_count": 35,
   "metadata": {},
   "outputs": [
    {
     "name": "stdout",
     "output_type": "stream",
     "text": [
      "E:\\Microsoft Python\\Python files\n"
     ]
    }
   ],
   "source": [
    "location_of_files = \"E:\\Microsoft Python\\Python files\"\n",
    "print(location_of_files)"
   ]
  },
  {
   "cell_type": "code",
   "execution_count": 40,
   "metadata": {},
   "outputs": [
    {
     "name": "stdout",
     "output_type": "stream",
     "text": [
      "E:\\Microsoft Python\\Python files\\example.txt\n",
      "hello world ! \n"
     ]
    }
   ],
   "source": [
    "import os\n",
    "\n",
    "location_of_files = \"E:\\\\Microsoft Python\\\\Python files\" # We use double slashes to escape the next line code. \n",
    "file_name = \"example.txt\"\n",
    "print(location_of_files + \"\\\\\" + file_name )\n",
    "\n",
    "with open(os.path.join(location_of_files, file_name)) as file:\n",
    "    print(file.read())"
   ]
  },
  {
   "cell_type": "code",
   "execution_count": 44,
   "metadata": {},
   "outputs": [
    {
     "name": "stdout",
     "output_type": "stream",
     "text": [
      "Talha age is 22\n",
      "Talha age is 22\n",
      "Talha age is 22\n",
      "Talha age is 22\n"
     ]
    }
   ],
   "source": [
    "# Different formats for string concatination.\n",
    "\n",
    "name = \"Talha\"\n",
    "age = 22\n",
    "print(\"%s age is %d\" % (name,age))\n",
    "print(\"{0:s} age is {1:d}\".format(name,age))\n",
    "print(\"{} age is {}\".format(name,age))\n",
    "print(f\"{name} age is {age}\")"
   ]
  },
  {
   "cell_type": "markdown",
   "metadata": {},
   "source": []
  },
  {
   "cell_type": "code",
   "execution_count": null,
   "metadata": {},
   "outputs": [],
   "source": []
  },
  {
   "cell_type": "code",
   "execution_count": null,
   "metadata": {},
   "outputs": [],
   "source": []
  },
  {
   "cell_type": "code",
   "execution_count": null,
   "metadata": {},
   "outputs": [],
   "source": []
  }
 ],
 "metadata": {
  "kernelspec": {
   "display_name": "Python 3",
   "language": "python",
   "name": "python3"
  },
  "language_info": {
   "codemirror_mode": {
    "name": "ipython",
    "version": 3
   },
   "file_extension": ".py",
   "mimetype": "text/x-python",
   "name": "python",
   "nbconvert_exporter": "python",
   "pygments_lexer": "ipython3",
   "version": "3.7.4"
  }
 },
 "nbformat": 4,
 "nbformat_minor": 2
}
